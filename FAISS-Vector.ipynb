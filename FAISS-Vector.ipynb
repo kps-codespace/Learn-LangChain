{
 "cells": [
  {
   "cell_type": "code",
   "execution_count": 1,
   "id": "65afc221",
   "metadata": {},
   "outputs": [
    {
     "name": "stderr",
     "output_type": "stream",
     "text": [
      "USER_AGENT environment variable not set, consider setting it to identify your requests.\n"
     ]
    }
   ],
   "source": [
    "from langchain_community.document_loaders import TextLoader,WebBaseLoader\n",
    "from langchain_text_splitters import CharacterTextSplitter\n",
    "from langchain_community.embeddings import OllamaEmbeddings\n",
    "from langchain_community.vectorstores import FAISS\n",
    "import bs4"
   ]
  },
  {
   "cell_type": "code",
   "execution_count": 2,
   "id": "8c342c70",
   "metadata": {},
   "outputs": [],
   "source": [
    "\n",
    "# Load text from a Wiki pedia\n",
    "web = WebBaseLoader(web_paths=(\"https://en.wikipedia.org/wiki/Car\",),\n",
    "                     bs_kwargs=dict(parse_only=bs4.SoupStrainer(\"p\")))\n",
    "doc_web = web.load()"
   ]
  },
  {
   "cell_type": "code",
   "execution_count": 3,
   "id": "0c769150",
   "metadata": {},
   "outputs": [
    {
     "name": "stderr",
     "output_type": "stream",
     "text": [
      "Created a chunk of size 34493, which is longer than the specified 1000\n"
     ]
    }
   ],
   "source": [
    "# Character text splitter\n",
    "text_splitter = CharacterTextSplitter(chunk_size=1000, chunk_overlap=30)\n",
    "docs_chunk = text_splitter.split_documents(doc_web)   "
   ]
  },
  {
   "cell_type": "code",
   "execution_count": 4,
   "id": "fd365c1d",
   "metadata": {},
   "outputs": [
    {
     "name": "stderr",
     "output_type": "stream",
     "text": [
      "C:\\Users\\Kavin\\AppData\\Local\\Temp\\ipykernel_25388\\2992112148.py:2: LangChainDeprecationWarning: The class `OllamaEmbeddings` was deprecated in LangChain 0.3.1 and will be removed in 1.0.0. An updated version of the class exists in the :class:`~langchain-ollama package and should be used instead. To use it run `pip install -U :class:`~langchain-ollama` and import as `from :class:`~langchain_ollama import OllamaEmbeddings``.\n",
      "  embeddings = OllamaEmbeddings(model=\"llama3.2\")\n"
     ]
    }
   ],
   "source": [
    "#Embedding Model\n",
    "embeddings = OllamaEmbeddings(model=\"llama3.2\")\n",
    "db = FAISS.from_documents(docs_chunk, embeddings)"
   ]
  },
  {
   "cell_type": "code",
   "execution_count": 5,
   "id": "fe8c2ef0",
   "metadata": {},
   "outputs": [
    {
     "data": {
      "text/plain": [
       "<langchain_community.vectorstores.faiss.FAISS at 0x2045b67c200>"
      ]
     },
     "execution_count": 5,
     "metadata": {},
     "output_type": "execute_result"
    }
   ],
   "source": [
    "db"
   ]
  },
  {
   "cell_type": "code",
   "execution_count": 6,
   "id": "9093cc94",
   "metadata": {},
   "outputs": [
    {
     "data": {
      "text/plain": [
       "Document(id='f5a6e3f6-8f0c-47df-8808-eaa71235cb02', metadata={'source': 'https://en.wikipedia.org/wiki/Car'}, page_content='Effects:\\n\\nMitigation:')"
      ]
     },
     "execution_count": 6,
     "metadata": {},
     "output_type": "execute_result"
    }
   ],
   "source": [
    "query = \"petrol car \"\n",
    "docs = db.similarity_search(query)\n",
    "docs[0]"
   ]
  },
  {
   "cell_type": "markdown",
   "id": "5558ff1a",
   "metadata": {},
   "source": [
    "As a Retreiver\n",
    "\n",
    "We can also convert the vectorstore into a retriver class. this allows us to easily usee it in other Lang Chain methods, Which largely work with retreivers"
   ]
  },
  {
   "cell_type": "code",
   "execution_count": 7,
   "id": "6521900b",
   "metadata": {},
   "outputs": [
    {
     "data": {
      "text/plain": [
       "'Effects:\\n\\nMitigation:'"
      ]
     },
     "execution_count": 7,
     "metadata": {},
     "output_type": "execute_result"
    }
   ],
   "source": [
    "retreiver = db.as_retriever()\n",
    "docs = retreiver.invoke(query)\n",
    "docs[0].page_content"
   ]
  },
  {
   "cell_type": "code",
   "execution_count": 8,
   "id": "af07fe00",
   "metadata": {},
   "outputs": [
    {
     "data": {
      "text/plain": [
       "[(Document(id='f5a6e3f6-8f0c-47df-8808-eaa71235cb02', metadata={'source': 'https://en.wikipedia.org/wiki/Car'}, page_content='Effects:\\n\\nMitigation:'),\n",
       "  np.float32(7743.2715)),\n",
       " (Document(id='08517335-b2e1-4db5-9040-a33f0b684cf1', metadata={'source': 'https://en.wikipedia.org/wiki/Car'}, page_content='A car, or an automobile, is a motor vehicle with wheels. Most definitions of cars state that they run primarily on roads, seat one to eight people, have four wheels, and mainly transport people rather than cargo.[1][2] There are around one billion cars in use worldwide.[citation needed]\\nThe French inventor Nicolas-Joseph Cugnot built the first steam-powered road vehicle in 1769, while the Swiss inventor François Isaac de Rivaz designed and constructed the first internal combustion-powered automobile in 1808. The modern car—a practical, marketable automobile for everyday use—was invented in 1886, when the German inventor Carl Benz patented his Benz Patent-Motorwagen. Commercial cars became widely available during the 20th century. The 1901 Oldsmobile Curved Dash and the 1908 Ford Model T, both American cars, are widely considered the first mass-produced[3][4] and mass-affordable[5][6][7] cars, respectively. Cars were rapidly adopted in the US, where they replaced horse-drawn carriages.[8] In Europe and other parts of the world, demand for automobiles did not increase until after World War II.[9] In the 21st century, car usage is still increasing rapidly, especially in China, India, and other newly industrialised countries.[10][11]\\nCars have controls for driving, parking, passenger comfort, and a variety of lamps. Over the decades, additional features and controls have been added to vehicles, making them progressively more complex. These include rear-reversing cameras, air conditioning, navigation systems, and in-car entertainment. Most cars in use in the early 2020s are propelled by an internal combustion engine, fueled by the combustion of fossil fuels. Electric cars, which were invented early in the history of the car, became commercially available in the 2000s and are predicted to cost less to buy than petrol-driven cars before 2025.[12][13] The transition from fossil fuel-powered cars to electric cars features prominently in most climate change mitigation scenarios,[14] such as Project Drawdown\\'s 100 actionable solutions for climate change.[15]\\nThere are costs and benefits to car use. The costs to the individual include acquiring the vehicle, interest payments (if the car is financed), repairs and maintenance, fuel, depreciation, driving time, parking fees, taxes, and insurance.[16] The costs to society include resources used to produce cars and fuel, maintaining roads, land-use, road congestion, air pollution, noise pollution, public health, and disposing of the vehicle at the end of its life. Traffic collisions are the largest cause of injury-related deaths worldwide.[17] Personal benefits include on-demand transportation, mobility, independence, and convenience.[18] Societal benefits include economic benefits, such as job and wealth creation from the automotive industry, transportation provision, societal well-being from leisure and travel opportunities. People\\'s ability to move flexibly from place to place has far-reaching implications for the nature of societies.[19]\\nThe English word car is believed to originate from Latin carrus/carrum \"wheeled vehicle\" or (via Old North French) Middle English carre \"two-wheeled cart\", both of which in turn derive from Gaulish karros \"chariot\".[20][21] It originally referred to any wheeled horse-drawn vehicle, such as a cart, carriage, or wagon.[22] The word also occurs in other Celtic languages.[23]\\n\"Motor car\", attested from 1895, is the usual formal term in British English.[2] \"Autocar\", a variant likewise attested from 1895 and literally meaning \"self-propelled car\", is now considered archaic.[24] \"Horseless carriage\" is attested from 1895.[25]\\n\"Automobile\", a classical compound derived from Ancient Greek autós (αὐτός) \"self\" and Latin mobilis \"movable\", entered English from French and was first adopted by the Automobile Club of Great Britain in 1897.[26] It fell out of favour in Britain and is now used chiefly in North America,[27] where the abbreviated form \"auto\" commonly appears as an adjective in compound formations like \"auto industry\" and \"auto mechanic\".[28][29]\\nIn 1649, Hans Hautsch of Nuremberg built a clockwork-driven carriage.[32][33] The first steam-powered vehicle was designed by Ferdinand Verbiest, a Flemish member of a Jesuit mission in China around 1672. It was a 65-centimetre-long (26\\xa0in) scale-model toy for the Kangxi Emperor that was unable to carry a driver or a passenger.[18][34][35] It is not known with certainty if Verbiest\\'s model was successfully built or run.[35]\\nNicolas-Joseph Cugnot is widely credited with building the first full-scale, self-propelled mechanical vehicle in about 1769; he created a steam-powered tricycle.[36] He also constructed two steam tractors for the French Army, one of which is preserved in the French National Conservatory of Arts and Crafts.[36] His inventions were limited by problems with water supply and maintaining steam pressure.[36] In 1801, Richard Trevithick built and demonstrated his Puffing Devil road locomotive, believed by many to be the first demonstration of a steam-powered road vehicle. It was unable to maintain sufficient steam pressure for long periods and was of little practical use.\\nThe development of external combustion (steam) engines is detailed as part of the history of the car but often treated separately from the development of cars in their modern understanding. A variety of steam-powered road vehicles were used during the first part of the 19th century, including steam cars, steam buses, phaetons, and steam rollers. In the United Kingdom, sentiment against them led to the Locomotive Acts of 1865.\\nIn 1807, Nicéphore Niépce and his brother Claude created what was probably the world\\'s first internal combustion engine (which they called a Pyréolophore), but installed it in a boat on the river Saone in France.[37] Coincidentally, in 1807, the Swiss inventor François Isaac de Rivaz designed his own \"de Rivaz internal combustion engine\", and used it to develop the world\\'s first vehicle to be powered by such an engine. The Niépces\\' Pyréolophore was fuelled by a mixture of Lycopodium powder (dried spores of the Lycopodium plant), finely crushed coal dust and resin that were mixed with oil, whereas de Rivaz used a mixture of hydrogen and oxygen.[37] Neither design was successful, as was the case with others, such as Samuel Brown, Samuel Morey, and Etienne Lenoir,[38] who each built vehicles (usually adapted carriages or carts) powered by internal combustion engines.[39]\\nIn November 1881, French inventor Gustave Trouvé demonstrated a three-wheeled car powered by electricity at the International Exposition of Electricity.[40] Although several other German engineers (including Gottlieb Daimler, Wilhelm Maybach, and Siegfried Marcus) were working on cars at about the same time, the year 1886 is regarded as the birth year of the modern car—a practical, marketable automobile for everyday use—when the German Carl Benz patented his Benz Patent-Motorwagen; he is generally acknowledged as the inventor of the car.[39][41][42]\\nIn 1879, Benz was granted a patent for his first engine, which had been designed in 1878. Many of his other inventions made the use of the internal combustion engine feasible for powering a vehicle. His first Motorwagen was built in 1885 in Mannheim, Germany. He was awarded the patent for its invention as of his application on 29 January 1886 (under the auspices of his major company, Benz & Cie., which was founded in 1883). Benz began promotion of the vehicle on 3 July 1886, and about 25 Benz vehicles were sold between 1888 and 1893, when his first four-wheeler was introduced along with a cheaper model. They also were powered with four-stroke engines of his own design. Emile Roger of France, already producing Benz engines under license, now added the Benz car to his line of products. Because France was more open to the early cars, initially more were built and sold in France through Roger than Benz sold in Germany. In August 1888, Bertha Benz, the wife and business partner of Carl Benz, undertook the first road trip by car, to prove the road-worthiness of her husband\\'s invention.[43]\\nIn 1896, Benz designed and patented the first internal-combustion flat engine, called boxermotor. During the last years of the 19th century, Benz was the largest car company in the world with 572 units produced in 1899 and, because of its size, Benz & Cie., became a joint-stock company. The first motor car in central Europe and one of the first factory-made cars in the world, was produced by Czech company Nesselsdorfer Wagenbau (later renamed to Tatra) in 1897, the Präsident automobil.\\nDaimler and Maybach founded Daimler Motoren Gesellschaft (DMG) in Cannstatt in 1890, and sold their first car in 1892 under the brand name Daimler. It was a horse-drawn stagecoach built by another manufacturer, which they retrofitted with an engine of their design. By 1895, about 30\\xa0vehicles had been built by Daimler and Maybach, either at the Daimler works or in the Hotel Hermann, where they set up shop after disputes with their backers. Benz, Maybach, and the Daimler team seem to have been unaware of each other\\'s early work. They never worked together; by the time of the merger of the two companies, Daimler and Maybach were no longer part of DMG. Daimler died in 1900 and later that year, Maybach designed an engine named Daimler-Mercedes that was placed in a specially ordered model built to specifications set by Emil Jellinek. This was a production of a small number of vehicles for Jellinek to race and market in his country. Two years later, in 1902, a new model DMG car was produced and the model was named Mercedes after the Maybach engine, which generated 35\\xa0hp. Maybach quit DMG shortly thereafter and opened a business of his own. Rights to the Daimler brand name were sold to other manufacturers.\\nIn 1890, Émile Levassor and Armand Peugeot of France began producing vehicles with Daimler engines, and so laid the foundation of the automotive industry in France. In 1891, Auguste Doriot and his Peugeot colleague Louis Rigoulot completed the longest trip by a petrol-driven vehicle when their self-designed and built Daimler powered Peugeot Type 3 completed 2,100 kilometres (1,300\\xa0mi) from Valentigney to Paris and Brest and back again. They were attached to the first Paris–Brest–Paris bicycle race, but finished six days after the winning cyclist, Charles Terront.\\nThe first design for an American car with a petrol internal combustion engine was made in 1877 by George Selden of Rochester, New York. Selden applied for a patent for a car in 1879, but the patent application expired because the vehicle was never built. After a delay of 16 years and a series of attachments to his application, on 5 November 1895, Selden was granted a US patent (U.S. patent 549,160) for a two-stroke car engine, which hindered, more than encouraged, development of cars in the United States. His patent was challenged by Henry Ford and others, and overturned in 1911.\\nIn 1893, the first running, petrol-driven American car was built and road-tested by the Duryea brothers of Springfield, Massachusetts. The first public run of the Duryea Motor Wagon took place on 21 September 1893, on Taylor Street in Metro Center Springfield.[44][45] Studebaker, subsidiary of a long-established wagon and coach manufacturer, started to build cars in 1897[46]:\\u200a66\\u200a and commenced sales of electric vehicles in 1902 and petrol vehicles in 1904.[47]\\nIn Britain, there had been several attempts to build steam cars with varying degrees of success, with Thomas Rickett even attempting a production run in 1860.[48] Santler from Malvern is recognised by the Veteran Car Club of Great Britain as having made the first petrol-driven car in the country in 1894,[49] followed by Frederick William Lanchester in 1895, but these were both one-offs.[49] The first production vehicles in Great Britain came from the Daimler Company, a company founded by Harry J. Lawson in 1896, after purchasing the right to use the name of the engines. Lawson\\'s company made its first car in 1897, and they bore the name Daimler.[49]\\nIn 1892, German engineer Rudolf Diesel was granted a patent for a \"New Rational Combustion Engine\". In 1897, he built the first diesel engine.[39] Steam-, electric-, and petrol-driven vehicles competed for a few decades, with petrol internal combustion engines achieving dominance in the 1910s. Although various pistonless rotary engine designs have attempted to compete with the conventional piston and crankshaft design, only Mazda\\'s version of the Wankel engine has had more than very limited success. All in all, it is estimated that over 100,000\\xa0patents created the modern automobile and motorcycle.[50]\\nLarge-scale, production-line manufacturing of affordable cars was started by Ransom Olds in 1901 at his Oldsmobile factory in Lansing, Michigan, and based upon stationary assembly line techniques pioneered by Marc Isambard Brunel at the Portsmouth Block Mills, England, in 1802. The assembly line style of mass production and interchangeable parts had been pioneered in the US by Thomas Blanchard in 1821, at the Springfield Armory in Springfield, Massachusetts.[51] This concept was greatly expanded by Henry Ford, beginning in 1913 with the world\\'s first moving assembly line for cars at the Highland Park Ford Plant.\\nAs a result, Ford\\'s cars came off the line in 15-minute intervals, much faster than previous methods, increasing productivity eightfold, while using less manpower (from 12.5\\xa0manhours to 1\\xa0hour 33\\xa0minutes).[52] It was so successful, paint became a bottleneck. Only Japan black would dry fast enough, forcing the company to drop the variety of colours available before 1913, until fast-drying Duco lacquer was developed in 1926. This is the source of Ford\\'s apocryphal remark, \"any color as long as it\\'s black\".[52] In 1914, an assembly line worker could buy a Model T with four months\\' pay.[52]\\nFord\\'s complex safety procedures—especially assigning each worker to a specific location instead of allowing them to roam about—dramatically reduced the rate of injury.[53] The combination of high wages and high efficiency is called \"Fordism\" and was copied by most major industries. The efficiency gains from the assembly line also coincided with the economic rise of the US. The assembly line forced workers to work at a certain pace with very repetitive motions which led to more output per worker while other countries were using less productive methods.\\nIn the automotive industry, its success was dominating, and quickly spread worldwide seeing the founding of Ford France and Ford Britain in 1911, Ford Denmark 1923, Ford Germany 1925; in 1921, Citroën was the first native European manufacturer to adopt the production method. Soon, companies had to have assembly lines, or risk going bankrupt; by 1930, 250 companies which did not, had disappeared.[52]\\nDevelopment of automotive technology was rapid, due in part to the hundreds of small manufacturers competing to gain the world\\'s attention. Key developments included electric ignition and the electric self-starter (both by Charles Kettering, for the Cadillac Motor Company in 1910–1911), independent suspension, and four-wheel brakes.\\nSince the 1920s, nearly all cars have been mass-produced to meet market needs, so marketing plans often have heavily influenced car design. It was Alfred P. Sloan who established the idea of different makes of cars produced by one company, called the General Motors Companion Make Program, so that buyers could \"move up\" as their fortunes improved.\\nReflecting the rapid pace of change, makes shared parts with one another so larger production volume resulted in lower costs for each price range. For example, in the 1930s, LaSalles, sold by Cadillac, used cheaper mechanical parts made by Oldsmobile; in the 1950s, Chevrolet shared bonnet, doors, roof, and windows with Pontiac; by the 1990s, corporate powertrains and shared platforms (with interchangeable brakes, suspension, and other parts) were common. Even so, only major makers could afford high costs, and even companies with decades of production, such as Apperson, Cole, Dorris, Haynes, or Premier, could not manage: of some two hundred American car makers in existence in 1920, only 43 survived in 1930, and with the Great Depression, by 1940, only 17 of those were left.[52]\\nIn Europe, much the same would happen. Morris set up its production line at Cowley in 1924, and soon outsold Ford, while beginning in 1923 to follow Ford\\'s practice of vertical integration, buying Hotchkiss\\' British subsidiary (engines), Wrigley (gearboxes), and Osberton (radiators), for instance, as well as competitors, such as Wolseley: in 1925, Morris had 41\\xa0per cent of total British car production. Most British small-car assemblers, from Abbey to Xtra, had gone under. Citroën did the same in France, coming to cars in 1919; between them and other cheap cars in reply such as Renault\\'s 10CV and Peugeot\\'s 5CV, they produced 550,000 cars in 1925, and Mors, Hurtu, and others could not compete.[52] Germany\\'s first mass-manufactured car, the Opel 4PS Laubfrosch (Tree Frog), came off the line at Rüsselsheim in 1924, soon making Opel the top car builder in Germany, with 37.5\\xa0per cent of the market.[52]\\nIn Japan, car production was very limited before World War II. Only a handful of companies were producing vehicles in limited numbers, and these were small, three-wheeled for commercial uses, like Daihatsu, or were the result of partnering with European companies, like Isuzu building the Wolseley A-9 in 1922. Mitsubishi was also partnered with Fiat and built the Mitsubishi Model A based on a Fiat vehicle. Toyota, Nissan, Suzuki, Mazda, and Honda began as companies producing non-automotive products before the war, switching to car production during the 1950s. Kiichiro Toyoda\\'s decision to take Toyoda Loom Works into automobile manufacturing would create what would eventually become Toyota Motor Corporation, the largest automobile manufacturer in the world. Subaru, meanwhile, was formed from a conglomerate of six companies who banded together as Fuji Heavy Industries, as a result of having been broken up under keiretsu legislation.\\nMost cars in use in the mid 2020s run on petrol burnt in an internal combustion engine (ICE). Some cities ban older more polluting petrol-driven cars and some countries plan to ban sales in future. However, some environmental groups say this phase-out of fossil fuel vehicles must be brought forwards to limit climate change. Production of petrol-fuelled cars peaked in 2017.[55][56]\\nOther hydrocarbon fossil fuels also burnt by deflagration (rather than detonation) in ICE cars include diesel, autogas, and CNG. Removal of fossil fuel subsidies,[57][58] concerns about oil dependence, tightening environmental laws and restrictions on greenhouse gas emissions are propelling work on alternative power systems for cars. This includes hybrid vehicles, plug-in electric vehicles and hydrogen vehicles. Out of all cars sold in 2021, nine per cent were electric, and by the end of that year there were more than 16\\xa0million electric cars on the world\\'s roads.[59] Despite rapid growth, less than five per cent of cars on the world\\'s roads were fully electric and plug-in hybrid cars by the end of 2024.[60] Cars for racing or speed records have sometimes employed jet or rocket engines, but these are impractical for common use. Oil consumption has increased rapidly in the 20th and 21st centuries because there are more cars; the 1980s oil glut even fuelled the sales of low-economy vehicles in OECD countries. The BRIC countries are adding to this consumption.[citation needed]\\nIn almost all hybrid (even mild hybrid) and pure electric cars regenerative braking recovers and returns to a battery some energy which would otherwise be wasted by friction brakes getting hot.[61] Although all cars must have friction brakes (front disc brakes and either disc or drum rear brakes[62]) for emergency stops, regenerative braking improves efficiency, particularly in city driving.[63]\\nCars are equipped with controls used for driving, passenger comfort, and safety, normally operated by a combination of the use of feet and hands, and occasionally by voice on 21st-century cars. These controls include a steering wheel, pedals for operating the brakes and controlling the car\\'s speed (and, in a manual transmission car, a clutch pedal), a shift lever or stick for changing gears, and a number of buttons and dials for turning on lights, ventilation, and other functions. Modern cars\\' controls are now standardised, such as the location for the accelerator and brake, but this was not always the case. Controls are evolving in response to new technologies, for example, the electric car and the integration of mobile communications.\\nSome of the original controls are no longer required. For example, all cars once had controls for the choke valve, clutch, ignition timing, and a crank instead of an electric starter. However, new controls have also been added to vehicles, making them more complex. These include air conditioning, navigation systems, and in-car entertainment. Another trend is the replacement of physical knobs and switches by secondary controls with touchscreen controls such as BMW\\'s iDrive and Ford\\'s MyFord Touch. Another change is that while early cars\\' pedals were physically linked to the brake mechanism and throttle, in the early 2020s, cars have increasingly replaced these physical linkages with electronic controls.\\nCars are typically equipped with interior lighting which can be toggled manually or be set to light up automatically with doors open, an entertainment system which originated from car radios, sideways windows which can be lowered or raised electrically (manually on earlier cars), and one or multiple auxiliary power outlets for supplying portable appliances such as mobile phones, portable fridges, power inverters, and electrical air pumps from the on-board electrical system.[64][65][a] More costly upper-class and luxury cars are equipped with features earlier such as massage seats and collision avoidance systems.[66][67]\\nDedicated automotive fuses and circuit breakers prevent damage from electrical overload.\\nCars are typically fitted with multiple types of lights. These include headlights, which are used to illuminate the way ahead and make the car visible to other users, so that the vehicle can be used at night; in some jurisdictions, daytime running lights; red brake lights to indicate when the brakes are applied; amber turn signal lights to indicate the turn intentions of the driver; white-coloured reverse lights to illuminate the area behind the car (and indicate that the driver will be or is reversing); and on some vehicles, additional lights (e.g., side marker lights) to increase the visibility of the car. Interior lights on the ceiling of the car are usually fitted for the driver and passengers. Some vehicles also have a boot light and, more rarely, an engine compartment light.\\nDuring the late 20th and early 21st century, cars increased in weight due to batteries,[69] modern steel safety cages, anti-lock brakes, airbags, and \"more-powerful—if more efficient—engines\"[70] and, as of 2019[update], typically weigh between 1 and 3 tonnes (1.1 and 3.3 short tons; 0.98 and 2.95 long tons).[71] Heavier cars are safer for the driver from a crash perspective, but more dangerous for other vehicles and road users.[70] The weight of a car influences fuel consumption and performance, with more weight resulting in increased fuel consumption and decreased performance. The Wuling Hongguang Mini EV, a typical city car, weighs about 700 kilograms (1,500\\xa0lb). Heavier cars include SUVs and extended-length SUVs like the Suburban. Cars have also become wider.[72]\\nSome places tax heavier cars more:[73] as well as improving pedestrian safety this can encourage manufacturers to use materials such as recycled aluminium instead of steel.[74] It has been suggested that one benefit of subsidising charging infrastructure is that cars can use lighter batteries.[75]\\nMost cars are designed to carry multiple occupants, often with four or five seats. Cars with five seats typically seat two passengers in the front and three in the rear. Full-size cars and large sport utility vehicles can often carry six, seven, or more occupants depending on the arrangement of the seats. On the other hand, sports cars are most often designed with only two seats. Utility vehicles like pickup trucks, combine seating with extra cargo or utility functionality. The differing needs for passenger capacity and their luggage or cargo space has resulted in the availability of a large variety of body styles to meet individual consumer requirements that include, among others, the sedan/saloon, hatchback, station wagon/estate, coupe, and minivan.\\nTraffic collisions are the largest cause of injury-related deaths worldwide.[17] Mary Ward became one of the first documented car fatalities in 1869 in Parsonstown, Ireland,[76] and Henry Bliss one of the US\\'s first pedestrian car casualties in 1899 in New York City.[77] There are now standard tests for safety in new cars, such as the Euro and US NCAP tests,[78] and insurance-industry-backed tests by the Insurance Institute for Highway Safety (IIHS).[79] However, not all such tests consider the safety of people outside the car, such as drivers of other cars, pedestrians and cyclists.[80]\\nThe costs of car usage, which may include the cost of: acquiring the vehicle, repairs and auto maintenance, fuel, depreciation, driving time, parking fees, taxes, and insurance,[16] are weighed against the cost of the alternatives, and the value of the benefits—perceived and real—of vehicle usage. The benefits may include on-demand transportation, mobility, independence, and convenience,[18] and emergency power.[82] During the 1920s, cars had another benefit: \"[c]ouples finally had a way to head off on unchaperoned dates, plus they had a private space to snuggle up close at the end of the night.\"[83]\\nSimilarly the costs to society of car use may include; maintaining roads, land use, air pollution, noise pollution, road congestion, public health, health care, and of disposing of the vehicle at the end of its life; and can be balanced against the value of the benefits to society that car use generates. Societal benefits may include: economy benefits, such as job and wealth creation, of car production and maintenance, transportation provision, society wellbeing derived from leisure and travel opportunities, and revenue generation from the tax opportunities. The ability of humans to move flexibly from place to place has far-reaching implications for the nature of societies.[19]\\nCar production and use has a large number of environmental impacts: it causes local air pollution plastic pollution and contributes to greenhouse gas emissions and climate change.[86] Cars and vans caused 10% of energy-related carbon dioxide emissions in 2022.[87] As of 2023[update], electric cars produce about half the emissions over their lifetime as diesel and petrol cars. This is set to improve as countries produce more of their electricity from low-carbon sources.[88] Cars consume almost a quarter of world oil production as of 2019.[55] Cities planned around cars are often less dense, which leads to further emissions, as they are less walkable for instance.[86] A growing demand for large SUVs is driving up emissions from cars.[89]\\nCars are a major cause of air pollution,[90] which stems from exhaust gas in diesel and petrol cars and from dust from brakes, tyres, and road wear. Larger cars pollute more.[91] Heavy metals and microplastics (from tyres) are also released into the environment, during production, use and at the end of life. Mining related to car manufacturing and oil spills both cause water pollution.[86]\\nAnimals and plants are often negatively affected by cars via habitat destruction and fragmentation from the road network and pollution. Animals are also killed every year on roads by cars, referred to as roadkill.[86] More recent road developments are including significant environmental mitigation in their designs, such as green bridges (designed to allow wildlife crossings) and creating wildlife corridors.\\nGovernments use fiscal policies, such as road tax, to discourage the purchase and use of more polluting cars;[92] Vehicle emission standards ban the sale of new highly pollution cars.[93] Many countries plan to stop selling fossil cars altogether between 2025 and 2050.[94] Various cities have implemented low-emission zones, banning old fossil fuel and Amsterdam is planning to ban fossil fuel cars completely.[95][96] Some cities make it easier for people to choose other forms of transport, such as cycling.[95] Many Chinese cities limit licensing of fossil fuel cars,[97]\\nMass production of personal motor vehicles in the United States and other developed countries with extensive territories such as Australia, Argentina, and France vastly increased individual and group mobility and greatly increased and expanded economic development in urban, suburban, exurban and rural areas.[citation needed] Growth in the popularity of cars and commuting has led to traffic congestion.[98] Moscow, Istanbul, Bogotá, Mexico City and São Paulo were the world\\'s most congested cities in 2018 according to INRIX, a data analytics company.[99]\\nIn the United States, the transport divide and car dependency resulting from domination of car-based transport systems presents barriers to employment in low-income neighbourhoods,[100] with many low-income individuals and families forced to run cars they cannot afford in order to maintain their income.[101] Dependency on automobiles by African Americans may result in exposure to the hazards of driving while black and other types of racial discrimination related to buying, financing and insuring them.[102]\\nAir pollution from cars increases the risk of lung cancer and heart disease. It can also harm pregnancies: more children are born too early or with lower birth weight.[86] Children are extra vulnerable to air pollution, as their bodies are still developing and air pollution in children is linked to the development of asthma, childhood cancer, and neurocognitive issues such as autism.[103][86] The growth in popularity of the car allowed cities to sprawl, therefore encouraging more travel by car, resulting in inactivity and obesity, which in turn can lead to increased risk of a variety of diseases.[104] When places are designed around cars, children have fewer opportunities to go places by themselves, and lose opportunities to become more independent.[105][86]\\nAlthough intensive development of conventional battery electric vehicles is continuing into the 2020s,[106] other car propulsion technologies that are under development include wireless charging,[107] hydrogen cars,[108][109] and hydrogen/electric hybrids.[110] Research into alternative forms of power includes using ammonia instead of hydrogen in fuel cells.[111]\\nNew materials which may replace steel car bodies include aluminium,[112] fiberglass, carbon fiber, biocomposites, and carbon nanotubes.[113] Telematics technology is allowing more and more people to share cars, on a pay-as-you-go basis, through car share and carpool schemes. Communication is also evolving due to connected car systems.[114] Open-source cars are not widespread.[115]\\nFully autonomous vehicles, also known as driverless cars, already exist as robotaxis[116][117] but have a long way to go before they are in general use.[118]\\nCar-share arrangements and carpooling are also increasingly popular, in the US and Europe.[119] For example, in the US, some car-sharing services have experienced double-digit growth in revenue and membership growth between 2006 and 2007. Services like car sharing offer residents to \"share\" a vehicle rather than own a car in already congested neighbourhoods.[120]\\nThe automotive industry designs, develops, manufactures, markets, and sells the world\\'s motor vehicles, more than three-quarters of which are cars. In 2020, there were 56\\xa0million cars manufactured worldwide,[121] down from 67\\xa0million the previous year.[122] The automotive industry in China produces by far the most (20\\xa0million in 2020), followed by Japan (seven million), then Germany, South Korea and India.[123] The largest market is China, followed by the US.\\nAround the world, there are about a billion cars on the road;[124][failed verification] they burn over a\\xa0trillion litres (0.26×10^12\\xa0US\\xa0gal; 0.22×10^12\\xa0imp\\xa0gal) of petrol and diesel fuel yearly, consuming about 50 exajoules (14,000\\xa0TWh) of energy.[125] The numbers of cars are increasing rapidly in China and India.[126] In the opinion of some, urban transport systems based around the car have proved unsustainable, consuming excessive energy, affecting the health of populations, and delivering a declining level of service despite increasing investment. Many of these negative effects fall disproportionately on those social groups who are also least likely to own and drive cars.[127][128] The sustainable transport movement focuses on solutions to these problems. The car industry is also facing increasing competition from the public transport sector, as some people re-evaluate their private vehicle usage. In July 2021, the European Commission introduced the \"Fit for 55\" legislation package, outlining crucial directives for the automotive sector\\'s future.[129][130] According to this package, by 2035, all newly sold cars in the European market must be Zero-emissions vehicles.[131][132][133]\\nEstablished alternatives for some aspects of car use include public transport such as busses, trolleybusses, trains, subways, tramways, light rail, cycling, and walking. Bicycle sharing systems have been established in China and many European cities, including Copenhagen and Amsterdam. Similar programmes have been developed in large US cities.[134][135] Additional individual modes of transport, such as personal rapid transit could serve as an alternative to cars if they prove to be socially accepted.[136] A study which checked the costs and the benefits of introducing Low Traffic Neighbourhood in London found the benefits overpass the costs approximately by 100 times in the first 20 years and the difference is growing over time.[137]\\nGeneral:'),\n",
       "  np.float32(9558.422))]"
      ]
     },
     "execution_count": 8,
     "metadata": {},
     "output_type": "execute_result"
    }
   ],
   "source": [
    "docs_score = db.similarity_search_with_score(query)\n",
    "docs_score"
   ]
  },
  {
   "cell_type": "code",
   "execution_count": 9,
   "id": "b293e72b",
   "metadata": {},
   "outputs": [],
   "source": [
    "#Save the vector store to local disk\n",
    "\n",
    "db.save_local(\"faiss_car\")    "
   ]
  },
  {
   "cell_type": "code",
   "execution_count": 10,
   "id": "5c2113a2",
   "metadata": {},
   "outputs": [],
   "source": [
    "#Load the vector store from local disk\n",
    "new_db = FAISS.load_local(\"faiss_car\", embeddings,allow_dangerous_deserialization=True)"
   ]
  },
  {
   "cell_type": "code",
   "execution_count": null,
   "id": "9739bd32",
   "metadata": {},
   "outputs": [],
   "source": []
  }
 ],
 "metadata": {
  "kernelspec": {
   "display_name": "LangChain Agents",
   "language": "python",
   "name": "python3"
  },
  "language_info": {
   "codemirror_mode": {
    "name": "ipython",
    "version": 3
   },
   "file_extension": ".py",
   "mimetype": "text/x-python",
   "name": "python",
   "nbconvert_exporter": "python",
   "pygments_lexer": "ipython3",
   "version": "3.12.10"
  }
 },
 "nbformat": 4,
 "nbformat_minor": 5
}
