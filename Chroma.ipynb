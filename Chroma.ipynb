{
 "cells": [],
 "metadata": {
  "kernelspec": {
   "display_name": "LangChain Agents",
   "language": "python",
   "name": "python3"
  },
  "language_info": {
   "name": "python",
   "version": "3.12.10"
  }
 },
 "nbformat": 4,
 "nbformat_minor": 5
}
